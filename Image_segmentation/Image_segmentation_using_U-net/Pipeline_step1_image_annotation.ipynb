{
 "cells": [
  {
   "cell_type": "code",
   "execution_count": 1,
   "metadata": {},
   "outputs": [],
   "source": [
    "import numpy as np\n",
    "import cv2\n",
    "import os\n",
    "#import scipy.io as sio\n",
    "#from matplotlib import pyplot as plt\n",
    "import re\n",
    "\n",
    "#import imageio"
   ]
  },
  {
   "cell_type": "code",
   "execution_count": 2,
   "metadata": {},
   "outputs": [],
   "source": [
    "def load_images_from_folder(folder):\n",
    "    images = []\n",
    "    fs = []\n",
    "    for filename in sorted(os.listdir(folder)):\n",
    "        f = os.path.join(folder,filename)\n",
    "        img =cv2.imread(f, cv2.IMREAD_GRAYSCALE)\n",
    "        #print (f)\n",
    "        if img is not None:\n",
    "            images.append(img)\n",
    "            fs.append((f[-7:-4]))\n",
    "    return images, fs"
   ]
  },
  {
   "cell_type": "code",
   "execution_count": 3,
   "metadata": {},
   "outputs": [],
   "source": [
    "drawing = False\n",
    "ix, iy = -1, -1\n",
    "\n",
    "def calc_radius(x, y):\n",
    "    global ix, iy\n",
    "    diff1 = ix - x\n",
    "    diff2 = iy - y\n",
    "\n",
    "    r = sqrt(diff1*diff1 + diff2*diff2)\n",
    "    return int(r)\n",
    "\n",
    "def draw(event, x, y, flags, param):\n",
    "    global drawing, ix, iy, shape, canvas, brush\n",
    "\n",
    "    if event == cv2.EVENT_LBUTTONDOWN:\n",
    "        drawing = True\n",
    "        ix, iy = x, y\n",
    "    elif event == cv2.EVENT_MOUSEMOVE:\n",
    "        if drawing == True:\n",
    "            if shape == 1:\n",
    "                cv2.circle(canvas, (x, y), pencil, color, -1)\n",
    "            elif shape == 2:\n",
    "                cv2.circle(canvas, (x, y), brush, color, -1)\n",
    "            elif shape == 3:\n",
    "                cv2.circle(canvas, (x, y), eraser, (255, 255, 255), -1)\n",
    "            elif shape == 5:\n",
    "                cv2.rectangle(canvas, (ix, iy), (x, y), color, -1)\n",
    "            elif shape == 6:\n",
    "                cv2.circle(canvas, (x, y), calc_radius(x, y), color, -1)\n",
    "    elif event == cv2.EVENT_LBUTTONUP:\n",
    "        drawing = False\n",
    "        if shape == 1:\n",
    "            cv2.circle(canvas, (x, y), pencil, color, -1)\n",
    "        elif shape == 2:\n",
    "            cv2.circle(canvas, (x, y), brush, color, -1)\n",
    "        elif shape == 3:\n",
    "            cv2.circle(canvas, (x, y), eraser, (255, 255, 255), -1)\n",
    "        elif shape == 4:\n",
    "            cv2.line(canvas, (ix, iy), (x, y), color, pencil)\n",
    "        elif shape == 5:\n",
    "            cv2.rectangle(canvas, (ix, iy), (x, y), color, -1)\n",
    "        elif shape == 6:\n",
    "            cv2.circle(canvas, (x, y), calc_radius(x, y), color, -1)\n",
    "\n",
    "def display_shape():\n",
    "    global shape\n",
    "    if shape == 0:\n",
    "        cv2.putText(obj, 'Off', (50, 250), cv2.FONT_HERSHEY_SIMPLEX, 3, (255, 255, 255), 2)\n",
    "    elif shape == 1:\n",
    "        cv2.putText(obj, 'Pencil', (50, 250), cv2.FONT_HERSHEY_SIMPLEX, 3, (255, 255, 255), 2)\n",
    "    elif shape == 2:\n",
    "        cv2.putText(obj, 'Brush', (50, 250), cv2.FONT_HERSHEY_SIMPLEX, 3, (255, 255, 255), 2)\n",
    "    elif shape == 3:\n",
    "        cv2.putText(obj, 'Eraser', (50, 250), cv2.FONT_HERSHEY_SIMPLEX, 3, (255, 255, 255), 2)\n",
    "    elif shape == 4:\n",
    "        cv2.putText(obj, 'Line', (50, 250), cv2.FONT_HERSHEY_SIMPLEX, 3, (255, 255, 255), 2)\n",
    "    elif shape == 5:\n",
    "        cv2.putText(obj, 'Rectangle', (50, 250), cv2.FONT_HERSHEY_SIMPLEX, 3, (255, 255, 255), 2)\n",
    "    elif shape == 6:\n",
    "        cv2.putText(obj, 'Circle', (50, 250), cv2.FONT_HERSHEY_SIMPLEX, 3, (255, 255, 255), 2)\n",
    "\n",
    "\n",
    "def do_nothing(param):\n",
    "    pass"
   ]
  },
  {
   "cell_type": "markdown",
   "metadata": {},
   "source": [
    "# read data"
   ]
  },
  {
   "cell_type": "code",
   "execution_count": 4,
   "metadata": {},
   "outputs": [
    {
     "name": "stdout",
     "output_type": "stream",
     "text": [
      "(256, 256, 256)\n"
     ]
    }
   ],
   "source": [
    "data, fs = load_images_from_folder(r'..') # change to the folder where the image is stored\n",
    "np.shape(data)\n",
    "data = np.swapaxes(data,0, 2) # change the axis of the images\n",
    "print (np.shape(data))\n",
    "filename = list(map(lambda x:re.sub(\"\\D\", \"\", x), fs)) # note that it is not in the right order 1 is followed by 10"
   ]
  },
  {
   "cell_type": "markdown",
   "metadata": {},
   "source": [
    "# label the image and save it in a new folder"
   ]
  },
  {
   "cell_type": "code",
   "execution_count": 5,
   "metadata": {},
   "outputs": [
    {
     "name": "stdout",
     "output_type": "stream",
     "text": [
      "saving image\n"
     ]
    }
   ],
   "source": [
    "i = 17 # change i to the image you want to see\n",
    "path = r'..'# change to the folder to save the annoation data\n",
    "\n",
    "canvas = data[:,:,i]\n",
    "canvas = cv2.cvtColor(canvas, cv2.COLOR_GRAY2RGB) # THERE IS A bug, cannot change mode\n",
    "\n",
    "palette = np.zeros((300, 512, 3), np.uint8)\n",
    "obj = np.zeros((300, 512, 3), np.uint8)\n",
    "\n",
    "\n",
    "cv2.namedWindow('Canvas')\n",
    "cv2.namedWindow('Palette')\n",
    "cv2.namedWindow('Object')\n",
    "\n",
    "\n",
    "\n",
    "cv2.createTrackbar('R', 'Palette', 0, 255, do_nothing)\n",
    "cv2.createTrackbar('B', 'Palette', 0, 255, do_nothing)\n",
    "cv2.createTrackbar('G', 'Palette', 0, 255, do_nothing)\n",
    "\n",
    "cv2.createTrackbar('Shape', 'Object', 0, 6, do_nothing)\n",
    "cv2.createTrackbar('Pencil', 'Object', 0, 5, do_nothing)\n",
    "cv2.createTrackbar('Brush', 'Object', 0, 12, do_nothing)\n",
    "cv2.createTrackbar('Eraser', 'Object', 0, 12, do_nothing)\n",
    "\n",
    "cv2.setMouseCallback('Canvas', draw)\n",
    "\n",
    "while True:\n",
    "        global shape, color, brush, eraser, pencil\n",
    "        cv2.imshow('Canvas', canvas)\n",
    "        cv2.imshow('Palette', palette)\n",
    "        cv2.imshow('Object', obj)\n",
    "\n",
    "        k = cv2.waitKey(1) & 0xFF\n",
    "\n",
    "        if k == ord('q'):\n",
    "                break\n",
    "        elif k == ord('s'):\n",
    "                print('saving image')\n",
    "                cv2.imwrite(path+'\\\\'+filename[i]+'.jpg',np.fliplr(np.rot90(canvas, k =-1)) ) # use the same file name to save images\n",
    "        elif k == ord('o'):\n",
    "                canvas = cv2.imread('canvas.jpg')\n",
    "\n",
    "        r = cv2.getTrackbarPos('R', 'Palette')\n",
    "        b = cv2.getTrackbarPos('B', 'Palette')\n",
    "        g = cv2.getTrackbarPos('G', 'Palette')\n",
    "\n",
    "        color = [b, g, r]\n",
    "        palette[:] = color\n",
    "\n",
    "        brush = cv2.getTrackbarPos('Brush', 'Object')\n",
    "        eraser = cv2.getTrackbarPos('Eraser', 'Object')\n",
    "        pencil = cv2.getTrackbarPos('Pencil', 'Object')\n",
    "\n",
    "        shape = cv2.getTrackbarPos('Shape', 'Object')\n",
    "\n",
    "        obj[:] = [0, 0, 0]\n",
    "        display_shape()\n",
    "\n",
    "cv2.destroyAllWindows()\n"
   ]
  }
 ],
 "metadata": {
  "kernelspec": {
   "display_name": "Python 3",
   "language": "python",
   "name": "python3"
  },
  "language_info": {
   "codemirror_mode": {
    "name": "ipython",
    "version": 3
   },
   "file_extension": ".py",
   "mimetype": "text/x-python",
   "name": "python",
   "nbconvert_exporter": "python",
   "pygments_lexer": "ipython3",
   "version": "3.6.8"
  }
 },
 "nbformat": 4,
 "nbformat_minor": 2
}
